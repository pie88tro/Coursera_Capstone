{
    "cells": [
        {
            "cell_type": "markdown",
            "metadata": {},
            "source": "# 1. Introduction\n## 1.1 - Business problem"
        },
        {
            "cell_type": "markdown",
            "metadata": {},
            "source": "Last month Toshio, a japanese friend of mine who lives in Tokyo, asked me: \"is Torino the right city for starting my japanese restaurant chain in Italy?\"\n\nNow, that I have the skills and the tools to use location data to explore a geographical location, I can answer the question.\n\nThis analysis could be useful for all business entrepreneurs who wants start a new business in Torino. They will prefer, I guess, the districts where there is a lower real estate cost and the type of business is less intense. \n\nFor the uninitiated, Torino is the capital of Piedmont, in the northwest Italy, and was the first capital of the Kingdom of Italy from 1861 to 1865. Ranked third in Italy, after Milan and Rome, for economic strength, Torino is the world's 78th richest city by purchasing power, with a GDP of $58 billion. The city has a rich culture and history, being known for its numerous art galleries, restaurants, churches, palaces, opera houses, piazzas, parks, gardens, theatres, libraries, museums and other venues. Turin is well known for its Renaissance, Baroque, Rococo, Neo-classical, and Art Nouveau architecture. Turin's attractions make it one of the world's top 250 tourist destinations. \n\nThe population of the city is estimate about 875,698 and I am a resident of this amazing city."
        },
        {
            "cell_type": "markdown",
            "metadata": {},
            "source": "### 1.2 - Data "
        },
        {
            "cell_type": "markdown",
            "metadata": {},
            "source": "The city is split up into 8 boroughs, called \"circoscrizioni\", and 34 neighborhood, as you can see on this map:\n\nhttps://github.com/pie88tro/Coursera_Capstone/blob/master/neighborhood-borough.png\n\nThe list of neighborhoods with the correspondent borough could be find in this PDF:\n\nhttp://www.comune.torino.it/statistica/osservatorio/annuario/2018/pdf/CAP%202%20Toponomastica%20ed%20Edilizia%202018.pdf\n\nUnfortunately, a dataset for Torino with boroughs-neighborhoods correlation, latitude, longitude and average land prices doesn't exist so I set-up my own data table and uploaded it on my github repository: \n\nhttps://raw.githubusercontent.com/pie88tro/Coursera_Capstone/master/Torino_Neighborhoods.csv\n\nI used Google Map, \u2018Search Nearby\u2019 option to get the center coordinates of the each Borough (\"Latitude\" and \"Longitude\" columns).\n\nThe column \"AVG price (\u20ac/m\u00b2)\" is the average land price for every neighborhood and I've taken it from those two websites:\n\nhttps://www.immobiliare.it/mercato-immobiliare/piemonte/torino/\n\nhttps://www.mercato-immobiliare.info/piemonte/torino/torino.html\n\nFor my analisys I will use the Foursquare API:\n\nhttps://developer.foursquare.com/docs/places-api/\n\nThe total number of neighborhoods in Torino are 34 so we need to find a way to cluster them based on their similarities, that are the number and the kind of restaurant.\nBriefly, after some steps of Data Cleaning and Data Exploration, I will use a K-Means algorithm to extract the clusters, produce a map and make an argument on the final result."
        },
        {
            "cell_type": "code",
            "execution_count": 20,
            "metadata": {},
            "outputs": [
                {
                    "data": {
                        "text/html": "<div>\n<style scoped>\n    .dataframe tbody tr th:only-of-type {\n        vertical-align: middle;\n    }\n\n    .dataframe tbody tr th {\n        vertical-align: top;\n    }\n\n    .dataframe thead th {\n        text-align: right;\n    }\n</style>\n<table border=\"1\" class=\"dataframe\">\n  <thead>\n    <tr style=\"text-align: right;\">\n      <th></th>\n      <th>Borough</th>\n      <th>Neighborhood</th>\n      <th>Latitude</th>\n      <th>Longitude</th>\n      <th>AVG Price (\u20ac/m\u00b2)</th>\n    </tr>\n  </thead>\n  <tbody>\n    <tr>\n      <th>0</th>\n      <td>1</td>\n      <td>Centro</td>\n      <td>45.071767</td>\n      <td>7.678488</td>\n      <td>3263.5</td>\n    </tr>\n    <tr>\n      <th>1</th>\n      <td>1</td>\n      <td>Crocetta</td>\n      <td>45.058193</td>\n      <td>7.665198</td>\n      <td>2541.0</td>\n    </tr>\n    <tr>\n      <th>2</th>\n      <td>2</td>\n      <td>Santa Rita</td>\n      <td>45.046291</td>\n      <td>7.643089</td>\n      <td>1739.5</td>\n    </tr>\n    <tr>\n      <th>3</th>\n      <td>2</td>\n      <td>Mirafiori Nord</td>\n      <td>45.042951</td>\n      <td>7.629056</td>\n      <td>1689.5</td>\n    </tr>\n    <tr>\n      <th>4</th>\n      <td>2</td>\n      <td>Mirafiori Sud</td>\n      <td>45.021725</td>\n      <td>7.619190</td>\n      <td>1295.5</td>\n    </tr>\n    <tr>\n      <th>5</th>\n      <td>3</td>\n      <td>Borgo San Paolo</td>\n      <td>45.060186</td>\n      <td>7.642546</td>\n      <td>1891.0</td>\n    </tr>\n    <tr>\n      <th>6</th>\n      <td>3</td>\n      <td>Cenisia</td>\n      <td>45.069506</td>\n      <td>7.649560</td>\n      <td>1941.0</td>\n    </tr>\n    <tr>\n      <th>7</th>\n      <td>3</td>\n      <td>Pozzo Strada</td>\n      <td>45.068565</td>\n      <td>7.623186</td>\n      <td>1708.0</td>\n    </tr>\n    <tr>\n      <th>8</th>\n      <td>3</td>\n      <td>Cit Turin</td>\n      <td>45.074472</td>\n      <td>7.658915</td>\n      <td>2106.0</td>\n    </tr>\n    <tr>\n      <th>9</th>\n      <td>3</td>\n      <td>Borgata Lesna</td>\n      <td>45.055226</td>\n      <td>7.620605</td>\n      <td>3050.0</td>\n    </tr>\n    <tr>\n      <th>10</th>\n      <td>4</td>\n      <td>San Donato</td>\n      <td>45.082516</td>\n      <td>7.661298</td>\n      <td>1906.0</td>\n    </tr>\n    <tr>\n      <th>11</th>\n      <td>4</td>\n      <td>Parella</td>\n      <td>45.080732</td>\n      <td>7.626679</td>\n      <td>1683.0</td>\n    </tr>\n    <tr>\n      <th>12</th>\n      <td>4</td>\n      <td>Campidoglio</td>\n      <td>45.083313</td>\n      <td>7.648933</td>\n      <td>1881.0</td>\n    </tr>\n    <tr>\n      <th>13</th>\n      <td>5</td>\n      <td>Vallette</td>\n      <td>45.102862</td>\n      <td>7.631450</td>\n      <td>1143.0</td>\n    </tr>\n    <tr>\n      <th>14</th>\n      <td>5</td>\n      <td>Madonna di Campagna</td>\n      <td>45.104990</td>\n      <td>7.660830</td>\n      <td>1118.0</td>\n    </tr>\n    <tr>\n      <th>15</th>\n      <td>5</td>\n      <td>Borgata Vittoria</td>\n      <td>45.102334</td>\n      <td>7.674091</td>\n      <td>1146.0</td>\n    </tr>\n    <tr>\n      <th>16</th>\n      <td>5</td>\n      <td>Lucento</td>\n      <td>45.097289</td>\n      <td>7.649093</td>\n      <td>1193.0</td>\n    </tr>\n    <tr>\n      <th>17</th>\n      <td>6</td>\n      <td>Barriera di Milano</td>\n      <td>45.088973</td>\n      <td>7.693471</td>\n      <td>1020.0</td>\n    </tr>\n    <tr>\n      <th>18</th>\n      <td>6</td>\n      <td>Falchera</td>\n      <td>45.129054</td>\n      <td>7.710557</td>\n      <td>1140.0</td>\n    </tr>\n    <tr>\n      <th>19</th>\n      <td>6</td>\n      <td>Regio Parco</td>\n      <td>45.098183</td>\n      <td>7.709007</td>\n      <td>1728.5</td>\n    </tr>\n    <tr>\n      <th>20</th>\n      <td>6</td>\n      <td>Barca</td>\n      <td>45.109947</td>\n      <td>7.727843</td>\n      <td>1240.0</td>\n    </tr>\n    <tr>\n      <th>21</th>\n      <td>6</td>\n      <td>Bertolla</td>\n      <td>45.099267</td>\n      <td>7.744301</td>\n      <td>1315.0</td>\n    </tr>\n    <tr>\n      <th>22</th>\n      <td>6</td>\n      <td>Rebaudengo</td>\n      <td>45.106829</td>\n      <td>7.697552</td>\n      <td>1045.0</td>\n    </tr>\n    <tr>\n      <th>23</th>\n      <td>6</td>\n      <td>Villaretto</td>\n      <td>45.132154</td>\n      <td>7.681473</td>\n      <td>1050.0</td>\n    </tr>\n    <tr>\n      <th>24</th>\n      <td>7</td>\n      <td>Aurora</td>\n      <td>45.078634</td>\n      <td>7.684076</td>\n      <td>1245.0</td>\n    </tr>\n    <tr>\n      <th>25</th>\n      <td>7</td>\n      <td>Vanchiglia</td>\n      <td>45.070486</td>\n      <td>7.700462</td>\n      <td>2153.5</td>\n    </tr>\n    <tr>\n      <th>26</th>\n      <td>7</td>\n      <td>Madonna del Pilone</td>\n      <td>45.070867</td>\n      <td>7.740251</td>\n      <td>2350.0</td>\n    </tr>\n    <tr>\n      <th>27</th>\n      <td>7</td>\n      <td>Sassi</td>\n      <td>45.079092</td>\n      <td>7.730270</td>\n      <td>2200.0</td>\n    </tr>\n    <tr>\n      <th>28</th>\n      <td>8</td>\n      <td>San Salvario</td>\n      <td>45.053193</td>\n      <td>7.677227</td>\n      <td>2500.5</td>\n    </tr>\n    <tr>\n      <th>29</th>\n      <td>8</td>\n      <td>Nizza Millefonti</td>\n      <td>45.027288</td>\n      <td>7.665156</td>\n      <td>1594.5</td>\n    </tr>\n    <tr>\n      <th>30</th>\n      <td>8</td>\n      <td>Lingotto</td>\n      <td>45.031674</td>\n      <td>7.651271</td>\n      <td>1569.5</td>\n    </tr>\n    <tr>\n      <th>31</th>\n      <td>8</td>\n      <td>Borgo Po</td>\n      <td>45.049365</td>\n      <td>7.704225</td>\n      <td>2900.0</td>\n    </tr>\n    <tr>\n      <th>32</th>\n      <td>8</td>\n      <td>Cavoretto</td>\n      <td>45.031806</td>\n      <td>7.690380</td>\n      <td>2589.0</td>\n    </tr>\n    <tr>\n      <th>33</th>\n      <td>8</td>\n      <td>Filadelfia</td>\n      <td>45.036957</td>\n      <td>7.656955</td>\n      <td>1750.0</td>\n    </tr>\n  </tbody>\n</table>\n</div>",
                        "text/plain": "    Borough                Neighborhood   Latitude  Longitude  \\\n0         1        Centro                45.071767   7.678488   \n1         1        Crocetta              45.058193   7.665198   \n2         2        Santa Rita            45.046291   7.643089   \n3         2        Mirafiori Nord        45.042951   7.629056   \n4         2        Mirafiori Sud         45.021725   7.619190   \n5         3  Borgo San Paolo             45.060186   7.642546   \n6         3        Cenisia               45.069506   7.649560   \n7         3        Pozzo Strada          45.068565   7.623186   \n8         3                   Cit Turin  45.074472   7.658915   \n9         3               Borgata Lesna  45.055226   7.620605   \n10        4        San Donato            45.082516   7.661298   \n11        4        Parella               45.080732   7.626679   \n12        4                 Campidoglio  45.083313   7.648933   \n13        5           Vallette           45.102862   7.631450   \n14        5        Madonna di Campagna   45.104990   7.660830   \n15        5        Borgata Vittoria      45.102334   7.674091   \n16        5                     Lucento  45.097289   7.649093   \n17        6        Barriera di Milano    45.088973   7.693471   \n18        6        Falchera              45.129054   7.710557   \n19        6        Regio Parco           45.098183   7.709007   \n20        6                       Barca  45.109947   7.727843   \n21        6                    Bertolla  45.099267   7.744301   \n22        6                  Rebaudengo  45.106829   7.697552   \n23        6                  Villaretto  45.132154   7.681473   \n24        7        Aurora                45.078634   7.684076   \n25        7        Vanchiglia            45.070486   7.700462   \n26        7        Madonna del Pilone    45.070867   7.740251   \n27        7                       Sassi  45.079092   7.730270   \n28        8        San Salvario          45.053193   7.677227   \n29        8        Nizza Millefonti      45.027288   7.665156   \n30        8                    Lingotto  45.031674   7.651271   \n31        8                    Borgo Po  45.049365   7.704225   \n32        8                   Cavoretto  45.031806   7.690380   \n33        8                  Filadelfia  45.036957   7.656955   \n\n    AVG Price (\u20ac/m\u00b2)\\t  \n0               3263.5  \n1               2541.0  \n2               1739.5  \n3               1689.5  \n4               1295.5  \n5               1891.0  \n6               1941.0  \n7               1708.0  \n8               2106.0  \n9               3050.0  \n10              1906.0  \n11              1683.0  \n12              1881.0  \n13              1143.0  \n14              1118.0  \n15              1146.0  \n16              1193.0  \n17              1020.0  \n18              1140.0  \n19              1728.5  \n20              1240.0  \n21              1315.0  \n22              1045.0  \n23              1050.0  \n24              1245.0  \n25              2153.5  \n26              2350.0  \n27              2200.0  \n28              2500.5  \n29              1594.5  \n30              1569.5  \n31              2900.0  \n32              2589.0  \n33              1750.0  "
                    },
                    "execution_count": 20,
                    "metadata": {},
                    "output_type": "execute_result"
                }
            ],
            "source": "df=pd.read_csv(\"https://raw.githubusercontent.com/pie88tro/Coursera_Capstone/master/Torino_Neighborhoods.csv\")\ndf"
        },
        {
            "cell_type": "markdown",
            "metadata": {},
            "source": "![](https://github.com/pie88tro/Coursera_Capstone/blob/master/neighborhood-borough.png)"
        },
        {
            "cell_type": "code",
            "execution_count": null,
            "metadata": {},
            "outputs": [],
            "source": ""
        },
        {
            "cell_type": "code",
            "execution_count": null,
            "metadata": {},
            "outputs": [],
            "source": ""
        }
    ],
    "metadata": {
        "kernelspec": {
            "display_name": "Python 3.6",
            "language": "python",
            "name": "python3"
        },
        "language_info": {
            "codemirror_mode": {
                "name": "ipython",
                "version": 3
            },
            "file_extension": ".py",
            "mimetype": "text/x-python",
            "name": "python",
            "nbconvert_exporter": "python",
            "pygments_lexer": "ipython3",
            "version": "3.6.9"
        }
    },
    "nbformat": 4,
    "nbformat_minor": 1
}